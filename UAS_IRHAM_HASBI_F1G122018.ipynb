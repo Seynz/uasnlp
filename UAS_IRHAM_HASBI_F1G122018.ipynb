{
  "nbformat": 4,
  "nbformat_minor": 0,
  "metadata": {
    "colab": {
      "provenance": []
    },
    "kernelspec": {
      "name": "python3",
      "display_name": "Python 3"
    },
    "language_info": {
      "name": "python"
    },
    "widgets": {
      "application/vnd.jupyter.widget-state+json": {
        "2dc173ebbeef49c8a064a3296d2001a9": {
          "model_module": "@jupyter-widgets/controls",
          "model_name": "HBoxModel",
          "model_module_version": "1.5.0",
          "state": {
            "_dom_classes": [],
            "_model_module": "@jupyter-widgets/controls",
            "_model_module_version": "1.5.0",
            "_model_name": "HBoxModel",
            "_view_count": null,
            "_view_module": "@jupyter-widgets/controls",
            "_view_module_version": "1.5.0",
            "_view_name": "HBoxView",
            "box_style": "",
            "children": [
              "IPY_MODEL_233da5e3a0cf47cfa6ec70c1684d7fcd",
              "IPY_MODEL_b4ee5cc5cd7b4a758ebc90cdbb676dfb",
              "IPY_MODEL_a48c948ef99e48d0b0b7a95099ed5bc6"
            ],
            "layout": "IPY_MODEL_8195a51e59fd4002a655a36ad9049d98"
          }
        },
        "233da5e3a0cf47cfa6ec70c1684d7fcd": {
          "model_module": "@jupyter-widgets/controls",
          "model_name": "HTMLModel",
          "model_module_version": "1.5.0",
          "state": {
            "_dom_classes": [],
            "_model_module": "@jupyter-widgets/controls",
            "_model_module_version": "1.5.0",
            "_model_name": "HTMLModel",
            "_view_count": null,
            "_view_module": "@jupyter-widgets/controls",
            "_view_module_version": "1.5.0",
            "_view_name": "HTMLView",
            "description": "",
            "description_tooltip": null,
            "layout": "IPY_MODEL_15c6784f89d340909da1622a9a73fda7",
            "placeholder": "​",
            "style": "IPY_MODEL_1c60bbd0d5fe4c8894c4ea72ddfc79e1",
            "value": "Pandas Apply: 100%"
          }
        },
        "b4ee5cc5cd7b4a758ebc90cdbb676dfb": {
          "model_module": "@jupyter-widgets/controls",
          "model_name": "FloatProgressModel",
          "model_module_version": "1.5.0",
          "state": {
            "_dom_classes": [],
            "_model_module": "@jupyter-widgets/controls",
            "_model_module_version": "1.5.0",
            "_model_name": "FloatProgressModel",
            "_view_count": null,
            "_view_module": "@jupyter-widgets/controls",
            "_view_module_version": "1.5.0",
            "_view_name": "ProgressView",
            "bar_style": "success",
            "description": "",
            "description_tooltip": null,
            "layout": "IPY_MODEL_05561d4ce0aa4938a4a3307ed8082cfd",
            "max": 12000,
            "min": 0,
            "orientation": "horizontal",
            "style": "IPY_MODEL_3256542869ec4dcf8758e1790939b23a",
            "value": 12000
          }
        },
        "a48c948ef99e48d0b0b7a95099ed5bc6": {
          "model_module": "@jupyter-widgets/controls",
          "model_name": "HTMLModel",
          "model_module_version": "1.5.0",
          "state": {
            "_dom_classes": [],
            "_model_module": "@jupyter-widgets/controls",
            "_model_module_version": "1.5.0",
            "_model_name": "HTMLModel",
            "_view_count": null,
            "_view_module": "@jupyter-widgets/controls",
            "_view_module_version": "1.5.0",
            "_view_name": "HTMLView",
            "description": "",
            "description_tooltip": null,
            "layout": "IPY_MODEL_2c44a0c5657b455a92c6b65d899f8adc",
            "placeholder": "​",
            "style": "IPY_MODEL_98afd7fed6d7418fbbdc3f576930e14e",
            "value": " 12000/12000 [19:35&lt;00:00, 12.17it/s]"
          }
        },
        "8195a51e59fd4002a655a36ad9049d98": {
          "model_module": "@jupyter-widgets/base",
          "model_name": "LayoutModel",
          "model_module_version": "1.2.0",
          "state": {
            "_model_module": "@jupyter-widgets/base",
            "_model_module_version": "1.2.0",
            "_model_name": "LayoutModel",
            "_view_count": null,
            "_view_module": "@jupyter-widgets/base",
            "_view_module_version": "1.2.0",
            "_view_name": "LayoutView",
            "align_content": null,
            "align_items": null,
            "align_self": null,
            "border": null,
            "bottom": null,
            "display": null,
            "flex": null,
            "flex_flow": null,
            "grid_area": null,
            "grid_auto_columns": null,
            "grid_auto_flow": null,
            "grid_auto_rows": null,
            "grid_column": null,
            "grid_gap": null,
            "grid_row": null,
            "grid_template_areas": null,
            "grid_template_columns": null,
            "grid_template_rows": null,
            "height": null,
            "justify_content": null,
            "justify_items": null,
            "left": null,
            "margin": null,
            "max_height": null,
            "max_width": null,
            "min_height": null,
            "min_width": null,
            "object_fit": null,
            "object_position": null,
            "order": null,
            "overflow": null,
            "overflow_x": null,
            "overflow_y": null,
            "padding": null,
            "right": null,
            "top": null,
            "visibility": null,
            "width": null
          }
        },
        "15c6784f89d340909da1622a9a73fda7": {
          "model_module": "@jupyter-widgets/base",
          "model_name": "LayoutModel",
          "model_module_version": "1.2.0",
          "state": {
            "_model_module": "@jupyter-widgets/base",
            "_model_module_version": "1.2.0",
            "_model_name": "LayoutModel",
            "_view_count": null,
            "_view_module": "@jupyter-widgets/base",
            "_view_module_version": "1.2.0",
            "_view_name": "LayoutView",
            "align_content": null,
            "align_items": null,
            "align_self": null,
            "border": null,
            "bottom": null,
            "display": null,
            "flex": null,
            "flex_flow": null,
            "grid_area": null,
            "grid_auto_columns": null,
            "grid_auto_flow": null,
            "grid_auto_rows": null,
            "grid_column": null,
            "grid_gap": null,
            "grid_row": null,
            "grid_template_areas": null,
            "grid_template_columns": null,
            "grid_template_rows": null,
            "height": null,
            "justify_content": null,
            "justify_items": null,
            "left": null,
            "margin": null,
            "max_height": null,
            "max_width": null,
            "min_height": null,
            "min_width": null,
            "object_fit": null,
            "object_position": null,
            "order": null,
            "overflow": null,
            "overflow_x": null,
            "overflow_y": null,
            "padding": null,
            "right": null,
            "top": null,
            "visibility": null,
            "width": null
          }
        },
        "1c60bbd0d5fe4c8894c4ea72ddfc79e1": {
          "model_module": "@jupyter-widgets/controls",
          "model_name": "DescriptionStyleModel",
          "model_module_version": "1.5.0",
          "state": {
            "_model_module": "@jupyter-widgets/controls",
            "_model_module_version": "1.5.0",
            "_model_name": "DescriptionStyleModel",
            "_view_count": null,
            "_view_module": "@jupyter-widgets/base",
            "_view_module_version": "1.2.0",
            "_view_name": "StyleView",
            "description_width": ""
          }
        },
        "05561d4ce0aa4938a4a3307ed8082cfd": {
          "model_module": "@jupyter-widgets/base",
          "model_name": "LayoutModel",
          "model_module_version": "1.2.0",
          "state": {
            "_model_module": "@jupyter-widgets/base",
            "_model_module_version": "1.2.0",
            "_model_name": "LayoutModel",
            "_view_count": null,
            "_view_module": "@jupyter-widgets/base",
            "_view_module_version": "1.2.0",
            "_view_name": "LayoutView",
            "align_content": null,
            "align_items": null,
            "align_self": null,
            "border": null,
            "bottom": null,
            "display": null,
            "flex": null,
            "flex_flow": null,
            "grid_area": null,
            "grid_auto_columns": null,
            "grid_auto_flow": null,
            "grid_auto_rows": null,
            "grid_column": null,
            "grid_gap": null,
            "grid_row": null,
            "grid_template_areas": null,
            "grid_template_columns": null,
            "grid_template_rows": null,
            "height": null,
            "justify_content": null,
            "justify_items": null,
            "left": null,
            "margin": null,
            "max_height": null,
            "max_width": null,
            "min_height": null,
            "min_width": null,
            "object_fit": null,
            "object_position": null,
            "order": null,
            "overflow": null,
            "overflow_x": null,
            "overflow_y": null,
            "padding": null,
            "right": null,
            "top": null,
            "visibility": null,
            "width": null
          }
        },
        "3256542869ec4dcf8758e1790939b23a": {
          "model_module": "@jupyter-widgets/controls",
          "model_name": "ProgressStyleModel",
          "model_module_version": "1.5.0",
          "state": {
            "_model_module": "@jupyter-widgets/controls",
            "_model_module_version": "1.5.0",
            "_model_name": "ProgressStyleModel",
            "_view_count": null,
            "_view_module": "@jupyter-widgets/base",
            "_view_module_version": "1.2.0",
            "_view_name": "StyleView",
            "bar_color": null,
            "description_width": ""
          }
        },
        "2c44a0c5657b455a92c6b65d899f8adc": {
          "model_module": "@jupyter-widgets/base",
          "model_name": "LayoutModel",
          "model_module_version": "1.2.0",
          "state": {
            "_model_module": "@jupyter-widgets/base",
            "_model_module_version": "1.2.0",
            "_model_name": "LayoutModel",
            "_view_count": null,
            "_view_module": "@jupyter-widgets/base",
            "_view_module_version": "1.2.0",
            "_view_name": "LayoutView",
            "align_content": null,
            "align_items": null,
            "align_self": null,
            "border": null,
            "bottom": null,
            "display": null,
            "flex": null,
            "flex_flow": null,
            "grid_area": null,
            "grid_auto_columns": null,
            "grid_auto_flow": null,
            "grid_auto_rows": null,
            "grid_column": null,
            "grid_gap": null,
            "grid_row": null,
            "grid_template_areas": null,
            "grid_template_columns": null,
            "grid_template_rows": null,
            "height": null,
            "justify_content": null,
            "justify_items": null,
            "left": null,
            "margin": null,
            "max_height": null,
            "max_width": null,
            "min_height": null,
            "min_width": null,
            "object_fit": null,
            "object_position": null,
            "order": null,
            "overflow": null,
            "overflow_x": null,
            "overflow_y": null,
            "padding": null,
            "right": null,
            "top": null,
            "visibility": null,
            "width": null
          }
        },
        "98afd7fed6d7418fbbdc3f576930e14e": {
          "model_module": "@jupyter-widgets/controls",
          "model_name": "DescriptionStyleModel",
          "model_module_version": "1.5.0",
          "state": {
            "_model_module": "@jupyter-widgets/controls",
            "_model_module_version": "1.5.0",
            "_model_name": "DescriptionStyleModel",
            "_view_count": null,
            "_view_module": "@jupyter-widgets/base",
            "_view_module_version": "1.2.0",
            "_view_name": "StyleView",
            "description_width": ""
          }
        }
      }
    }
  },
  "cells": [
    {
      "cell_type": "code",
      "source": [
        "pip install gensim"
      ],
      "metadata": {
        "id": "Ye4BLzgRkbjB",
        "colab": {
          "base_uri": "https://localhost:8080/"
        },
        "outputId": "8d3b66ec-2ded-4715-a00b-350da8c50fad"
      },
      "execution_count": null,
      "outputs": [
        {
          "output_type": "stream",
          "name": "stdout",
          "text": [
            "Requirement already satisfied: gensim in /usr/local/lib/python3.11/dist-packages (4.3.3)\n",
            "Requirement already satisfied: numpy<2.0,>=1.18.5 in /usr/local/lib/python3.11/dist-packages (from gensim) (1.26.4)\n",
            "Requirement already satisfied: scipy<1.14.0,>=1.7.0 in /usr/local/lib/python3.11/dist-packages (from gensim) (1.13.1)\n",
            "Requirement already satisfied: smart-open>=1.8.1 in /usr/local/lib/python3.11/dist-packages (from gensim) (7.1.0)\n",
            "Requirement already satisfied: wrapt in /usr/local/lib/python3.11/dist-packages (from smart-open>=1.8.1->gensim) (1.17.2)\n"
          ]
        }
      ]
    },
    {
      "cell_type": "code",
      "source": [
        "pip install google_play_scraper"
      ],
      "metadata": {
        "colab": {
          "base_uri": "https://localhost:8080/"
        },
        "id": "LjehO9cTkWvc",
        "outputId": "3da4b78c-a440-4eb2-bde6-5f631823d8cf"
      },
      "execution_count": null,
      "outputs": [
        {
          "output_type": "stream",
          "name": "stdout",
          "text": [
            "Requirement already satisfied: google_play_scraper in /usr/local/lib/python3.11/dist-packages (1.2.7)\n"
          ]
        }
      ]
    },
    {
      "cell_type": "code",
      "execution_count": null,
      "metadata": {
        "colab": {
          "base_uri": "https://localhost:8080/"
        },
        "id": "oYg0ArRykQP5",
        "outputId": "98ccc8c4-f202-4a2e-d308-4fece76f97a9"
      },
      "outputs": [
        {
          "output_type": "stream",
          "name": "stdout",
          "text": [
            "Contoh Data dengan Skor:\n",
            "                                             content  score\n",
            "0                                                 ok      5\n",
            "1  Kita pengen tokopedia yg dulu, tokopedia gausa...      1\n",
            "2                                            terbaik      5\n",
            "3  Setiap bulan saya pesan brang ditokopedia sela...      1\n",
            "4  aplikasi paling rajin update sedunia,seminggu ...      1\n",
            "\n",
            "Distribusi Skor Bintang:\n",
            "score\n",
            "5    5403\n",
            "1    4399\n",
            "4     790\n",
            "2     737\n",
            "3     671\n",
            "Name: count, dtype: int64\n"
          ]
        }
      ],
      "source": [
        "import pandas as pd\n",
        "from google_play_scraper import reviews, Sort\n",
        "\n",
        "result, _ = reviews(\n",
        "    'com.tokopedia.tkpd',\n",
        "    lang='id',\n",
        "    country='id',\n",
        "    sort=Sort.NEWEST,\n",
        "    count=15000,\n",
        "    filter_score_with=None\n",
        ")\n",
        "\n",
        "data_ulasan = []\n",
        "for r in result:\n",
        "    data_ulasan.append({\n",
        "        'content': r['content'],\n",
        "        'score': r['score']\n",
        "    })\n",
        "\n",
        "df_ulasan = pd.DataFrame(data_ulasan)\n",
        "print(\"Contoh Data dengan Skor:\")\n",
        "print(df_ulasan.head())\n",
        "print(\"\\nDistribusi Skor Bintang:\")\n",
        "print(df_ulasan['score'].value_counts())"
      ]
    },
    {
      "cell_type": "code",
      "source": [
        "nltk.download('stopwords')"
      ],
      "metadata": {
        "colab": {
          "base_uri": "https://localhost:8080/"
        },
        "id": "y5tP7_Y2lju9",
        "outputId": "d5a4422a-6de4-4a07-c372-c2b6d92cfa0e"
      },
      "execution_count": null,
      "outputs": [
        {
          "output_type": "stream",
          "name": "stderr",
          "text": [
            "[nltk_data] Downloading package stopwords to /root/nltk_data...\n",
            "[nltk_data]   Package stopwords is already up-to-date!\n"
          ]
        },
        {
          "output_type": "execute_result",
          "data": {
            "text/plain": [
              "True"
            ]
          },
          "metadata": {},
          "execution_count": 3
        }
      ]
    },
    {
      "cell_type": "code",
      "source": [
        "nltk.download('punkt')"
      ],
      "metadata": {
        "colab": {
          "base_uri": "https://localhost:8080/"
        },
        "id": "Z3XtDgW8lmcZ",
        "outputId": "edd27892-2972-4d6a-b15b-ca49f497cfce"
      },
      "execution_count": null,
      "outputs": [
        {
          "output_type": "stream",
          "name": "stderr",
          "text": [
            "[nltk_data] Downloading package punkt to /root/nltk_data...\n",
            "[nltk_data]   Package punkt is already up-to-date!\n"
          ]
        },
        {
          "output_type": "execute_result",
          "data": {
            "text/plain": [
              "True"
            ]
          },
          "metadata": {},
          "execution_count": 4
        }
      ]
    },
    {
      "cell_type": "code",
      "source": [
        "pip install sastrawi\n"
      ],
      "metadata": {
        "colab": {
          "base_uri": "https://localhost:8080/"
        },
        "id": "WbmyTWeclmVd",
        "outputId": "7747f5e5-a87f-4519-a2dd-b28591602254"
      },
      "execution_count": null,
      "outputs": [
        {
          "output_type": "stream",
          "name": "stdout",
          "text": [
            "Requirement already satisfied: sastrawi in /usr/local/lib/python3.11/dist-packages (1.0.1)\n"
          ]
        }
      ]
    },
    {
      "cell_type": "code",
      "source": [
        "import pandas as pd\n",
        "\n",
        "# Load CSV kamus alay\n",
        "kamus_df = pd.read_csv('kamusalay.csv', names=['alay', 'baku'], encoding='utf-8')"
      ],
      "metadata": {
        "id": "nAtTb6Rv7E-S"
      },
      "execution_count": null,
      "outputs": []
    },
    {
      "cell_type": "code",
      "source": [
        "kamus_df.head()"
      ],
      "metadata": {
        "colab": {
          "base_uri": "https://localhost:8080/",
          "height": 206
        },
        "id": "lcEOomE97IRw",
        "outputId": "534df7aa-b7dd-49f6-d0cf-da6ea9eb9028"
      },
      "execution_count": null,
      "outputs": [
        {
          "output_type": "execute_result",
          "data": {
            "text/plain": [
              "    alay     baku\n",
              "0    ajh     saja\n",
              "1    ajj     saja\n",
              "2   akoh      aku\n",
              "3  amaca  ah masa\n",
              "4   amuh     kamu"
            ],
            "text/html": [
              "\n",
              "  <div id=\"df-32ef05a2-c427-4809-b37a-82cf293e73d2\" class=\"colab-df-container\">\n",
              "    <div>\n",
              "<style scoped>\n",
              "    .dataframe tbody tr th:only-of-type {\n",
              "        vertical-align: middle;\n",
              "    }\n",
              "\n",
              "    .dataframe tbody tr th {\n",
              "        vertical-align: top;\n",
              "    }\n",
              "\n",
              "    .dataframe thead th {\n",
              "        text-align: right;\n",
              "    }\n",
              "</style>\n",
              "<table border=\"1\" class=\"dataframe\">\n",
              "  <thead>\n",
              "    <tr style=\"text-align: right;\">\n",
              "      <th></th>\n",
              "      <th>alay</th>\n",
              "      <th>baku</th>\n",
              "    </tr>\n",
              "  </thead>\n",
              "  <tbody>\n",
              "    <tr>\n",
              "      <th>0</th>\n",
              "      <td>ajh</td>\n",
              "      <td>saja</td>\n",
              "    </tr>\n",
              "    <tr>\n",
              "      <th>1</th>\n",
              "      <td>ajj</td>\n",
              "      <td>saja</td>\n",
              "    </tr>\n",
              "    <tr>\n",
              "      <th>2</th>\n",
              "      <td>akoh</td>\n",
              "      <td>aku</td>\n",
              "    </tr>\n",
              "    <tr>\n",
              "      <th>3</th>\n",
              "      <td>amaca</td>\n",
              "      <td>ah masa</td>\n",
              "    </tr>\n",
              "    <tr>\n",
              "      <th>4</th>\n",
              "      <td>amuh</td>\n",
              "      <td>kamu</td>\n",
              "    </tr>\n",
              "  </tbody>\n",
              "</table>\n",
              "</div>\n",
              "    <div class=\"colab-df-buttons\">\n",
              "\n",
              "  <div class=\"colab-df-container\">\n",
              "    <button class=\"colab-df-convert\" onclick=\"convertToInteractive('df-32ef05a2-c427-4809-b37a-82cf293e73d2')\"\n",
              "            title=\"Convert this dataframe to an interactive table.\"\n",
              "            style=\"display:none;\">\n",
              "\n",
              "  <svg xmlns=\"http://www.w3.org/2000/svg\" height=\"24px\" viewBox=\"0 -960 960 960\">\n",
              "    <path d=\"M120-120v-720h720v720H120Zm60-500h600v-160H180v160Zm220 220h160v-160H400v160Zm0 220h160v-160H400v160ZM180-400h160v-160H180v160Zm440 0h160v-160H620v160ZM180-180h160v-160H180v160Zm440 0h160v-160H620v160Z\"/>\n",
              "  </svg>\n",
              "    </button>\n",
              "\n",
              "  <style>\n",
              "    .colab-df-container {\n",
              "      display:flex;\n",
              "      gap: 12px;\n",
              "    }\n",
              "\n",
              "    .colab-df-convert {\n",
              "      background-color: #E8F0FE;\n",
              "      border: none;\n",
              "      border-radius: 50%;\n",
              "      cursor: pointer;\n",
              "      display: none;\n",
              "      fill: #1967D2;\n",
              "      height: 32px;\n",
              "      padding: 0 0 0 0;\n",
              "      width: 32px;\n",
              "    }\n",
              "\n",
              "    .colab-df-convert:hover {\n",
              "      background-color: #E2EBFA;\n",
              "      box-shadow: 0px 1px 2px rgba(60, 64, 67, 0.3), 0px 1px 3px 1px rgba(60, 64, 67, 0.15);\n",
              "      fill: #174EA6;\n",
              "    }\n",
              "\n",
              "    .colab-df-buttons div {\n",
              "      margin-bottom: 4px;\n",
              "    }\n",
              "\n",
              "    [theme=dark] .colab-df-convert {\n",
              "      background-color: #3B4455;\n",
              "      fill: #D2E3FC;\n",
              "    }\n",
              "\n",
              "    [theme=dark] .colab-df-convert:hover {\n",
              "      background-color: #434B5C;\n",
              "      box-shadow: 0px 1px 3px 1px rgba(0, 0, 0, 0.15);\n",
              "      filter: drop-shadow(0px 1px 2px rgba(0, 0, 0, 0.3));\n",
              "      fill: #FFFFFF;\n",
              "    }\n",
              "  </style>\n",
              "\n",
              "    <script>\n",
              "      const buttonEl =\n",
              "        document.querySelector('#df-32ef05a2-c427-4809-b37a-82cf293e73d2 button.colab-df-convert');\n",
              "      buttonEl.style.display =\n",
              "        google.colab.kernel.accessAllowed ? 'block' : 'none';\n",
              "\n",
              "      async function convertToInteractive(key) {\n",
              "        const element = document.querySelector('#df-32ef05a2-c427-4809-b37a-82cf293e73d2');\n",
              "        const dataTable =\n",
              "          await google.colab.kernel.invokeFunction('convertToInteractive',\n",
              "                                                    [key], {});\n",
              "        if (!dataTable) return;\n",
              "\n",
              "        const docLinkHtml = 'Like what you see? Visit the ' +\n",
              "          '<a target=\"_blank\" href=https://colab.research.google.com/notebooks/data_table.ipynb>data table notebook</a>'\n",
              "          + ' to learn more about interactive tables.';\n",
              "        element.innerHTML = '';\n",
              "        dataTable['output_type'] = 'display_data';\n",
              "        await google.colab.output.renderOutput(dataTable, element);\n",
              "        const docLink = document.createElement('div');\n",
              "        docLink.innerHTML = docLinkHtml;\n",
              "        element.appendChild(docLink);\n",
              "      }\n",
              "    </script>\n",
              "  </div>\n",
              "\n",
              "\n",
              "    <div id=\"df-ef805c9c-4c26-49ed-8956-60533918892d\">\n",
              "      <button class=\"colab-df-quickchart\" onclick=\"quickchart('df-ef805c9c-4c26-49ed-8956-60533918892d')\"\n",
              "                title=\"Suggest charts\"\n",
              "                style=\"display:none;\">\n",
              "\n",
              "<svg xmlns=\"http://www.w3.org/2000/svg\" height=\"24px\"viewBox=\"0 0 24 24\"\n",
              "     width=\"24px\">\n",
              "    <g>\n",
              "        <path d=\"M19 3H5c-1.1 0-2 .9-2 2v14c0 1.1.9 2 2 2h14c1.1 0 2-.9 2-2V5c0-1.1-.9-2-2-2zM9 17H7v-7h2v7zm4 0h-2V7h2v10zm4 0h-2v-4h2v4z\"/>\n",
              "    </g>\n",
              "</svg>\n",
              "      </button>\n",
              "\n",
              "<style>\n",
              "  .colab-df-quickchart {\n",
              "      --bg-color: #E8F0FE;\n",
              "      --fill-color: #1967D2;\n",
              "      --hover-bg-color: #E2EBFA;\n",
              "      --hover-fill-color: #174EA6;\n",
              "      --disabled-fill-color: #AAA;\n",
              "      --disabled-bg-color: #DDD;\n",
              "  }\n",
              "\n",
              "  [theme=dark] .colab-df-quickchart {\n",
              "      --bg-color: #3B4455;\n",
              "      --fill-color: #D2E3FC;\n",
              "      --hover-bg-color: #434B5C;\n",
              "      --hover-fill-color: #FFFFFF;\n",
              "      --disabled-bg-color: #3B4455;\n",
              "      --disabled-fill-color: #666;\n",
              "  }\n",
              "\n",
              "  .colab-df-quickchart {\n",
              "    background-color: var(--bg-color);\n",
              "    border: none;\n",
              "    border-radius: 50%;\n",
              "    cursor: pointer;\n",
              "    display: none;\n",
              "    fill: var(--fill-color);\n",
              "    height: 32px;\n",
              "    padding: 0;\n",
              "    width: 32px;\n",
              "  }\n",
              "\n",
              "  .colab-df-quickchart:hover {\n",
              "    background-color: var(--hover-bg-color);\n",
              "    box-shadow: 0 1px 2px rgba(60, 64, 67, 0.3), 0 1px 3px 1px rgba(60, 64, 67, 0.15);\n",
              "    fill: var(--button-hover-fill-color);\n",
              "  }\n",
              "\n",
              "  .colab-df-quickchart-complete:disabled,\n",
              "  .colab-df-quickchart-complete:disabled:hover {\n",
              "    background-color: var(--disabled-bg-color);\n",
              "    fill: var(--disabled-fill-color);\n",
              "    box-shadow: none;\n",
              "  }\n",
              "\n",
              "  .colab-df-spinner {\n",
              "    border: 2px solid var(--fill-color);\n",
              "    border-color: transparent;\n",
              "    border-bottom-color: var(--fill-color);\n",
              "    animation:\n",
              "      spin 1s steps(1) infinite;\n",
              "  }\n",
              "\n",
              "  @keyframes spin {\n",
              "    0% {\n",
              "      border-color: transparent;\n",
              "      border-bottom-color: var(--fill-color);\n",
              "      border-left-color: var(--fill-color);\n",
              "    }\n",
              "    20% {\n",
              "      border-color: transparent;\n",
              "      border-left-color: var(--fill-color);\n",
              "      border-top-color: var(--fill-color);\n",
              "    }\n",
              "    30% {\n",
              "      border-color: transparent;\n",
              "      border-left-color: var(--fill-color);\n",
              "      border-top-color: var(--fill-color);\n",
              "      border-right-color: var(--fill-color);\n",
              "    }\n",
              "    40% {\n",
              "      border-color: transparent;\n",
              "      border-right-color: var(--fill-color);\n",
              "      border-top-color: var(--fill-color);\n",
              "    }\n",
              "    60% {\n",
              "      border-color: transparent;\n",
              "      border-right-color: var(--fill-color);\n",
              "    }\n",
              "    80% {\n",
              "      border-color: transparent;\n",
              "      border-right-color: var(--fill-color);\n",
              "      border-bottom-color: var(--fill-color);\n",
              "    }\n",
              "    90% {\n",
              "      border-color: transparent;\n",
              "      border-bottom-color: var(--fill-color);\n",
              "    }\n",
              "  }\n",
              "</style>\n",
              "\n",
              "      <script>\n",
              "        async function quickchart(key) {\n",
              "          const quickchartButtonEl =\n",
              "            document.querySelector('#' + key + ' button');\n",
              "          quickchartButtonEl.disabled = true;  // To prevent multiple clicks.\n",
              "          quickchartButtonEl.classList.add('colab-df-spinner');\n",
              "          try {\n",
              "            const charts = await google.colab.kernel.invokeFunction(\n",
              "                'suggestCharts', [key], {});\n",
              "          } catch (error) {\n",
              "            console.error('Error during call to suggestCharts:', error);\n",
              "          }\n",
              "          quickchartButtonEl.classList.remove('colab-df-spinner');\n",
              "          quickchartButtonEl.classList.add('colab-df-quickchart-complete');\n",
              "        }\n",
              "        (() => {\n",
              "          let quickchartButtonEl =\n",
              "            document.querySelector('#df-ef805c9c-4c26-49ed-8956-60533918892d button');\n",
              "          quickchartButtonEl.style.display =\n",
              "            google.colab.kernel.accessAllowed ? 'block' : 'none';\n",
              "        })();\n",
              "      </script>\n",
              "    </div>\n",
              "\n",
              "    </div>\n",
              "  </div>\n"
            ],
            "application/vnd.google.colaboratory.intrinsic+json": {
              "type": "dataframe",
              "variable_name": "kamus_df",
              "summary": "{\n  \"name\": \"kamus_df\",\n  \"rows\": 238,\n  \"fields\": [\n    {\n      \"column\": \"alay\",\n      \"properties\": {\n        \"dtype\": \"string\",\n        \"num_unique_values\": 237,\n        \"samples\": [\n          \"klo\",\n          \"beud\",\n          \"tdk\"\n        ],\n        \"semantic_type\": \"\",\n        \"description\": \"\"\n      }\n    },\n    {\n      \"column\": \"baku\",\n      \"properties\": {\n        \"dtype\": \"category\",\n        \"num_unique_values\": 99,\n        \"samples\": [\n          \"terima kasih\",\n          \"jam berapa\",\n          \"televisi\"\n        ],\n        \"semantic_type\": \"\",\n        \"description\": \"\"\n      }\n    }\n  ]\n}"
            }
          },
          "metadata": {},
          "execution_count": 10
        }
      ]
    },
    {
      "cell_type": "code",
      "source": [
        "alay_dict = dict(zip(kamus_df['alay'], kamus_df['baku']))"
      ],
      "metadata": {
        "id": "sCXkrLX87Q79"
      },
      "execution_count": null,
      "outputs": []
    },
    {
      "cell_type": "code",
      "source": [
        "pip install swifter\n"
      ],
      "metadata": {
        "colab": {
          "base_uri": "https://localhost:8080/"
        },
        "id": "4ePcSFkd9QpM",
        "outputId": "10c00fab-67bd-444f-8683-766988c17a45"
      },
      "execution_count": null,
      "outputs": [
        {
          "output_type": "stream",
          "name": "stdout",
          "text": [
            "Collecting swifter\n",
            "  Downloading swifter-1.4.0.tar.gz (1.2 MB)\n",
            "\u001b[?25l     \u001b[90m━━━━━━━━━━━━━━━━━━━━━━━━━━━━━━━━━━━━━━━━\u001b[0m \u001b[32m0.0/1.2 MB\u001b[0m \u001b[31m?\u001b[0m eta \u001b[36m-:--:--\u001b[0m\r\u001b[2K     \u001b[91m━━━━━━━━━━━━━\u001b[0m\u001b[90m╺\u001b[0m\u001b[90m━━━━━━━━━━━━━━━━━━━━━━━━━━\u001b[0m \u001b[32m0.4/1.2 MB\u001b[0m \u001b[31m11.6 MB/s\u001b[0m eta \u001b[36m0:00:01\u001b[0m\r\u001b[2K     \u001b[90m━━━━━━━━━━━━━━━━━━━━━━━━━━━━━━━━━━━━━━━━\u001b[0m \u001b[32m1.2/1.2 MB\u001b[0m \u001b[31m19.5 MB/s\u001b[0m eta \u001b[36m0:00:00\u001b[0m\n",
            "\u001b[?25h  Preparing metadata (setup.py) ... \u001b[?25l\u001b[?25hdone\n",
            "Requirement already satisfied: pandas>=1.0.0 in /usr/local/lib/python3.11/dist-packages (from swifter) (2.2.2)\n",
            "Requirement already satisfied: psutil>=5.6.6 in /usr/local/lib/python3.11/dist-packages (from swifter) (5.9.5)\n",
            "Requirement already satisfied: dask>=2.10.0 in /usr/local/lib/python3.11/dist-packages (from dask[dataframe]>=2.10.0->swifter) (2024.12.1)\n",
            "Requirement already satisfied: tqdm>=4.33.0 in /usr/local/lib/python3.11/dist-packages (from swifter) (4.67.1)\n",
            "Requirement already satisfied: click>=8.1 in /usr/local/lib/python3.11/dist-packages (from dask>=2.10.0->dask[dataframe]>=2.10.0->swifter) (8.2.1)\n",
            "Requirement already satisfied: cloudpickle>=3.0.0 in /usr/local/lib/python3.11/dist-packages (from dask>=2.10.0->dask[dataframe]>=2.10.0->swifter) (3.1.1)\n",
            "Requirement already satisfied: fsspec>=2021.09.0 in /usr/local/lib/python3.11/dist-packages (from dask>=2.10.0->dask[dataframe]>=2.10.0->swifter) (2025.3.2)\n",
            "Requirement already satisfied: packaging>=20.0 in /usr/local/lib/python3.11/dist-packages (from dask>=2.10.0->dask[dataframe]>=2.10.0->swifter) (24.2)\n",
            "Requirement already satisfied: partd>=1.4.0 in /usr/local/lib/python3.11/dist-packages (from dask>=2.10.0->dask[dataframe]>=2.10.0->swifter) (1.4.2)\n",
            "Requirement already satisfied: pyyaml>=5.3.1 in /usr/local/lib/python3.11/dist-packages (from dask>=2.10.0->dask[dataframe]>=2.10.0->swifter) (6.0.2)\n",
            "Requirement already satisfied: toolz>=0.10.0 in /usr/local/lib/python3.11/dist-packages (from dask>=2.10.0->dask[dataframe]>=2.10.0->swifter) (0.12.1)\n",
            "Requirement already satisfied: importlib_metadata>=4.13.0 in /usr/local/lib/python3.11/dist-packages (from dask>=2.10.0->dask[dataframe]>=2.10.0->swifter) (8.7.0)\n",
            "Requirement already satisfied: dask-expr<1.2,>=1.1 in /usr/local/lib/python3.11/dist-packages (from dask[dataframe]>=2.10.0->swifter) (1.1.21)\n",
            "Requirement already satisfied: numpy>=1.23.2 in /usr/local/lib/python3.11/dist-packages (from pandas>=1.0.0->swifter) (1.26.4)\n",
            "Requirement already satisfied: python-dateutil>=2.8.2 in /usr/local/lib/python3.11/dist-packages (from pandas>=1.0.0->swifter) (2.9.0.post0)\n",
            "Requirement already satisfied: pytz>=2020.1 in /usr/local/lib/python3.11/dist-packages (from pandas>=1.0.0->swifter) (2025.2)\n",
            "Requirement already satisfied: tzdata>=2022.7 in /usr/local/lib/python3.11/dist-packages (from pandas>=1.0.0->swifter) (2025.2)\n",
            "Requirement already satisfied: pyarrow>=14.0.1 in /usr/local/lib/python3.11/dist-packages (from dask-expr<1.2,>=1.1->dask[dataframe]>=2.10.0->swifter) (18.1.0)\n",
            "Requirement already satisfied: zipp>=3.20 in /usr/local/lib/python3.11/dist-packages (from importlib_metadata>=4.13.0->dask>=2.10.0->dask[dataframe]>=2.10.0->swifter) (3.23.0)\n",
            "Requirement already satisfied: locket in /usr/local/lib/python3.11/dist-packages (from partd>=1.4.0->dask>=2.10.0->dask[dataframe]>=2.10.0->swifter) (1.0.0)\n",
            "Requirement already satisfied: six>=1.5 in /usr/local/lib/python3.11/dist-packages (from python-dateutil>=2.8.2->pandas>=1.0.0->swifter) (1.17.0)\n",
            "Building wheels for collected packages: swifter\n",
            "  Building wheel for swifter (setup.py) ... \u001b[?25l\u001b[?25hdone\n",
            "  Created wheel for swifter: filename=swifter-1.4.0-py3-none-any.whl size=16505 sha256=56972d806dca003559ddb76e8762c1d7ef33a58b8aef9e46b0332b979f09f348\n",
            "  Stored in directory: /root/.cache/pip/wheels/ef/7f/bd/9bed48f078f3ee1fa75e0b29b6e0335ce1cb03a38d3443b3a3\n",
            "Successfully built swifter\n",
            "Installing collected packages: swifter\n",
            "Successfully installed swifter-1.4.0\n"
          ]
        }
      ]
    },
    {
      "cell_type": "code",
      "source": [
        "import re\n",
        "import pandas as pd\n",
        "from nltk.corpus import stopwords\n",
        "from Sastrawi.Stemmer.StemmerFactory import StemmerFactory\n",
        "from tqdm import tqdm\n",
        "\n",
        "# Aktifkan progress_apply untuk tqdm\n",
        "tqdm.pandas()\n",
        "\n",
        "# ========== 2. Inisialisasi Sekali ==========\n",
        "stop_words = set(stopwords.words('indonesian'))\n",
        "factory = StemmerFactory()\n",
        "stemmer = factory.create_stemmer()\n",
        "\n",
        "# ========== 3. Normalisasi Slang ==========\n",
        "def normalize_slang_from_dict(text, slang_dict):\n",
        "    words = text.split()\n",
        "    return ' '.join([slang_dict.get(word, word) for word in words])\n",
        "\n",
        "# ========== 4. Fungsi Clean Text ==========\n",
        "def clean_text(text, slang_dict):\n",
        "    if pd.isna(text):\n",
        "        return ''\n",
        "\n",
        "    text = text.lower()\n",
        "    text = re.sub(r'[^\\w\\s]', '', text)\n",
        "    text = re.sub(r'\\d+', '', text)\n",
        "    text = re.sub(r'\\s+', ' ', text).strip()\n",
        "\n",
        "    # Normalisasi slang\n",
        "    text = normalize_slang_from_dict(text, slang_dict)\n",
        "\n",
        "    # Stopword removal\n",
        "    words = text.split()\n",
        "    words = [word for word in words if word not in stop_words]\n",
        "\n",
        "    # Stemming\n",
        "    words = [stemmer.stem(word) for word in words]\n",
        "\n",
        "    return ' '.join(words)\n",
        "\n",
        "import swifter\n",
        "df_ulasan['cleaned_content'] = df_ulasan['content'].swifter.apply(lambda x: clean_text(x, alay_dict))\n",
        "\n",
        "\n",
        "print(\"\\nContoh Data Setelah Preprocessing:\")\n",
        "print(df_ulasan.head())"
      ],
      "metadata": {
        "id": "TuEDo3H-ksQe",
        "colab": {
          "base_uri": "https://localhost:8080/",
          "height": 309,
          "referenced_widgets": [
            "2dc173ebbeef49c8a064a3296d2001a9",
            "233da5e3a0cf47cfa6ec70c1684d7fcd",
            "b4ee5cc5cd7b4a758ebc90cdbb676dfb",
            "a48c948ef99e48d0b0b7a95099ed5bc6",
            "8195a51e59fd4002a655a36ad9049d98",
            "15c6784f89d340909da1622a9a73fda7",
            "1c60bbd0d5fe4c8894c4ea72ddfc79e1",
            "05561d4ce0aa4938a4a3307ed8082cfd",
            "3256542869ec4dcf8758e1790939b23a",
            "2c44a0c5657b455a92c6b65d899f8adc",
            "98afd7fed6d7418fbbdc3f576930e14e"
          ]
        },
        "outputId": "b27abc8d-c989-4673-8dad-3b625850d2df"
      },
      "execution_count": null,
      "outputs": [
        {
          "output_type": "display_data",
          "data": {
            "text/plain": [
              "Pandas Apply:   0%|          | 0/12000 [00:00<?, ?it/s]"
            ],
            "application/vnd.jupyter.widget-view+json": {
              "version_major": 2,
              "version_minor": 0,
              "model_id": "2dc173ebbeef49c8a064a3296d2001a9"
            }
          },
          "metadata": {}
        },
        {
          "output_type": "stream",
          "name": "stdout",
          "text": [
            "\n",
            "Contoh Data Setelah Preprocessing:\n",
            "                                             content  score  \\\n",
            "0                                                 ok      5   \n",
            "1  Kita pengen tokopedia yg dulu, tokopedia gausa...      1   \n",
            "2                                            terbaik      5   \n",
            "3  Setiap bulan saya pesan brang ditokopedia sela...      1   \n",
            "4  aplikasi paling rajin update sedunia,seminggu ...      1   \n",
            "\n",
            "                                     cleaned_content  \n",
            "0                                                oke  \n",
            "1  tokopedia yg tokopedia gausah gabung in tiktok...  \n",
            "2                                               baik  \n",
            "3  pesan brang ditokopedia sja barang yg dtangny ...  \n",
            "4       aplikasi rajin update seduniaseminggu update  \n"
          ]
        }
      ]
    },
    {
      "cell_type": "code",
      "source": [
        "df_ulasan.to_csv('preprocessing_review_tokepedia.csv', index=False)"
      ],
      "metadata": {
        "id": "uJvkVvDY_4iq"
      },
      "execution_count": null,
      "outputs": []
    },
    {
      "cell_type": "code",
      "source": [
        "import pandas as pd\n",
        "\n",
        "# Ubah sesuai path file kamu\n",
        "positive_words = pd.read_csv('positive.tsv', sep='\\t', header=None)[0].tolist()\n",
        "negative_words = pd.read_csv('negative.tsv', sep='\\t', header=None)[0].tolist()\n",
        "\n",
        "# Ubah ke lowercase untuk nyocokin\n",
        "positive_words = [word.lower() for word in positive_words]\n",
        "negative_words = [word.lower() for word in negative_words]\n"
      ],
      "metadata": {
        "id": "qkO5cPUQlgcq"
      },
      "execution_count": null,
      "outputs": []
    },
    {
      "cell_type": "code",
      "source": [
        "def label_sentiment(text):\n",
        "    if pd.isna(text):\n",
        "        return 'netral'\n",
        "\n",
        "    words = text.split()\n",
        "    pos = sum(1 for word in words if word in positive_words)\n",
        "    neg = sum(1 for word in words if word in negative_words)\n",
        "\n",
        "    if pos > neg:\n",
        "        return 'positif'\n",
        "    elif neg > pos:\n",
        "        return 'negatif'\n",
        "    else:\n",
        "        return 'netral'\n"
      ],
      "metadata": {
        "id": "wC-38qKH_8uv"
      },
      "execution_count": null,
      "outputs": []
    },
    {
      "cell_type": "code",
      "source": [
        "df_ulasan['sentiment'] = df_ulasan['cleaned_content'].apply(label_sentiment)\n",
        "\n",
        "# Cek hasil\n",
        "print(df_ulasan[['cleaned_content', 'sentiment']].head())\n"
      ],
      "metadata": {
        "colab": {
          "base_uri": "https://localhost:8080/"
        },
        "id": "DLLHdU1hAAIx",
        "outputId": "0cdfb646-9e73-4071-8ffe-1bf3c0fd4d14"
      },
      "execution_count": null,
      "outputs": [
        {
          "output_type": "stream",
          "name": "stdout",
          "text": [
            "                                     cleaned_content sentiment\n",
            "0                                                oke   positif\n",
            "1  tokopedia yg tokopedia gausah gabung in tiktok...   negatif\n",
            "2                                               baik    netral\n",
            "3  pesan brang ditokopedia sja barang yg dtangny ...   negatif\n",
            "4       aplikasi rajin update seduniaseminggu update   negatif\n"
          ]
        }
      ]
    },
    {
      "cell_type": "code",
      "source": [
        "df_ulasan.to_csv('labeling_review_tokepedia.csv', index=False)"
      ],
      "metadata": {
        "id": "4p8GArM8pR2a"
      },
      "execution_count": null,
      "outputs": []
    },
    {
      "cell_type": "code",
      "source": [
        "print(df_ulasan['sentiment'].value_counts())\n"
      ],
      "metadata": {
        "colab": {
          "base_uri": "https://localhost:8080/"
        },
        "id": "kX5kHg60AGcT",
        "outputId": "5a55ee44-9ceb-49ea-eccd-46e98ec63ef7"
      },
      "execution_count": null,
      "outputs": [
        {
          "output_type": "stream",
          "name": "stdout",
          "text": [
            "sentiment\n",
            "positif    5502\n",
            "netral     3883\n",
            "negatif    2615\n",
            "Name: count, dtype: int64\n"
          ]
        }
      ]
    },
    {
      "cell_type": "code",
      "source": [
        "import pandas as pd"
      ],
      "metadata": {
        "id": "y-T9ss24vRV5"
      },
      "execution_count": 2,
      "outputs": []
    },
    {
      "cell_type": "code",
      "source": [
        "df_ulasan = pd.read_csv('labeling_review_tokepedia.csv')"
      ],
      "metadata": {
        "id": "6c_pMbmNo_DG"
      },
      "execution_count": 3,
      "outputs": []
    },
    {
      "cell_type": "code",
      "source": [
        "print(df_ulasan.head())"
      ],
      "metadata": {
        "colab": {
          "base_uri": "https://localhost:8080/"
        },
        "id": "vdVMBM2kpe4K",
        "outputId": "ef18b134-5a79-4326-de0c-32d098d9e449"
      },
      "execution_count": null,
      "outputs": [
        {
          "output_type": "stream",
          "name": "stdout",
          "text": [
            "                                             content  score  \\\n",
            "0                                                 ok      5   \n",
            "1  Kita pengen tokopedia yg dulu, tokopedia gausa...      1   \n",
            "2                                            terbaik      5   \n",
            "3  Setiap bulan saya pesan brang ditokopedia sela...      1   \n",
            "4  aplikasi paling rajin update sedunia,seminggu ...      1   \n",
            "\n",
            "                                     cleaned_content sentiment  \n",
            "0                                                oke   positif  \n",
            "1  tokopedia yg tokopedia gausah gabung in tiktok...   negatif  \n",
            "2                                               baik    netral  \n",
            "3  pesan brang ditokopedia sja barang yg dtangny ...   negatif  \n",
            "4       aplikasi rajin update seduniaseminggu update   negatif  \n"
          ]
        }
      ]
    },
    {
      "cell_type": "code",
      "source": [],
      "metadata": {
        "id": "bV_-3H-zrL-T"
      },
      "execution_count": null,
      "outputs": []
    },
    {
      "cell_type": "code",
      "source": [
        "print(df_ulasan.isnull().sum())"
      ],
      "metadata": {
        "colab": {
          "base_uri": "https://localhost:8080/"
        },
        "id": "otrtIG5qphJ6",
        "outputId": "03fec2cb-800f-4a39-f8f9-bd16b6d1f296"
      },
      "execution_count": null,
      "outputs": [
        {
          "output_type": "stream",
          "name": "stdout",
          "text": [
            "content              1\n",
            "score                0\n",
            "cleaned_content    263\n",
            "sentiment            0\n",
            "dtype: int64\n"
          ]
        }
      ]
    },
    {
      "cell_type": "code",
      "source": [
        "#hapus data yang null\n",
        "df_ulasan.dropna(inplace=True)"
      ],
      "metadata": {
        "id": "NcbcHZ2Lrdu7"
      },
      "execution_count": 4,
      "outputs": []
    },
    {
      "cell_type": "code",
      "source": [
        "print(df_ulasan.isnull().sum())"
      ],
      "metadata": {
        "colab": {
          "base_uri": "https://localhost:8080/"
        },
        "id": "0BuGBSyErlx5",
        "outputId": "1f780867-2d77-4258-b91e-e04207cb36dd"
      },
      "execution_count": null,
      "outputs": [
        {
          "output_type": "stream",
          "name": "stdout",
          "text": [
            "content            0\n",
            "score              0\n",
            "cleaned_content    0\n",
            "sentiment          0\n",
            "dtype: int64\n"
          ]
        }
      ]
    },
    {
      "cell_type": "code",
      "source": [
        "df_ulasan.duplicated().sum()"
      ],
      "metadata": {
        "colab": {
          "base_uri": "https://localhost:8080/"
        },
        "id": "rnq5N3yLpiGz",
        "outputId": "f1bc451f-b53c-4525-e58b-d2f776d911a3"
      },
      "execution_count": null,
      "outputs": [
        {
          "output_type": "execute_result",
          "data": {
            "text/plain": [
              "1846"
            ]
          },
          "metadata": {},
          "execution_count": 41
        }
      ]
    },
    {
      "cell_type": "code",
      "source": [
        "#drop duplikat\n",
        "df_ulasan.drop_duplicates(inplace=True)"
      ],
      "metadata": {
        "id": "SB2n_bNzrwTI"
      },
      "execution_count": 5,
      "outputs": []
    },
    {
      "cell_type": "code",
      "source": [
        "df_ulasan.duplicated().sum()"
      ],
      "metadata": {
        "colab": {
          "base_uri": "https://localhost:8080/"
        },
        "id": "o3Sf6_0mryzK",
        "outputId": "1e65e691-97ae-45ec-eaf5-5fbb83e0a745"
      },
      "execution_count": null,
      "outputs": [
        {
          "output_type": "execute_result",
          "data": {
            "text/plain": [
              "0"
            ]
          },
          "metadata": {},
          "execution_count": 43
        }
      ]
    },
    {
      "cell_type": "code",
      "source": [
        "print(df_ulasan['sentiment'].value_counts())"
      ],
      "metadata": {
        "colab": {
          "base_uri": "https://localhost:8080/"
        },
        "id": "N1tU008xr1Cr",
        "outputId": "17f463e7-b1b8-4d05-a593-4bd22c52b062"
      },
      "execution_count": 6,
      "outputs": [
        {
          "output_type": "stream",
          "name": "stdout",
          "text": [
            "sentiment\n",
            "positif    4409\n",
            "netral     2890\n",
            "negatif    2592\n",
            "Name: count, dtype: int64\n"
          ]
        }
      ]
    },
    {
      "cell_type": "code",
      "source": [
        "pip install imbalanced-learn"
      ],
      "metadata": {
        "colab": {
          "base_uri": "https://localhost:8080/"
        },
        "id": "SxP2F3ixrI7L",
        "outputId": "e2aebd7f-6748-4212-f46d-fb154f67fae5"
      },
      "execution_count": 7,
      "outputs": [
        {
          "output_type": "stream",
          "name": "stdout",
          "text": [
            "Requirement already satisfied: imbalanced-learn in /usr/local/lib/python3.11/dist-packages (0.13.0)\n",
            "Requirement already satisfied: numpy<3,>=1.24.3 in /usr/local/lib/python3.11/dist-packages (from imbalanced-learn) (1.26.4)\n",
            "Requirement already satisfied: scipy<2,>=1.10.1 in /usr/local/lib/python3.11/dist-packages (from imbalanced-learn) (1.13.1)\n",
            "Requirement already satisfied: scikit-learn<2,>=1.3.2 in /usr/local/lib/python3.11/dist-packages (from imbalanced-learn) (1.6.1)\n",
            "Requirement already satisfied: sklearn-compat<1,>=0.1 in /usr/local/lib/python3.11/dist-packages (from imbalanced-learn) (0.1.3)\n",
            "Requirement already satisfied: joblib<2,>=1.1.1 in /usr/local/lib/python3.11/dist-packages (from imbalanced-learn) (1.4.2)\n",
            "Requirement already satisfied: threadpoolctl<4,>=2.0.0 in /usr/local/lib/python3.11/dist-packages (from imbalanced-learn) (3.5.0)\n"
          ]
        }
      ]
    },
    {
      "cell_type": "code",
      "source": [
        "X = df_ulasan['cleaned_content']\n",
        "y = df_ulasan['sentiment']"
      ],
      "metadata": {
        "id": "CdXbULEmqbtZ"
      },
      "execution_count": 8,
      "outputs": []
    },
    {
      "cell_type": "code",
      "source": [
        "# from sklearn.model_selection import train_test_split\n",
        "# # Bagi data menjadi Training + Validation Set (80%) dan Testing Set (20%)\n",
        "# X_train_val, X_test, y_train_val, y_test = train_test_split(\n",
        "#     X, y, test_size=0.2, random_state=42, stratify=y\n",
        "# )\n",
        "\n",
        "# # Bagi Training + Validation Set (yang 80%) menjadi Training Set (60%) dan Validation Set (20%)\n",
        "# # test_size=0.25 dari X_train_val (0.25 * 0.8 = 0.2 dari total)\n",
        "# X_train, X_val, y_train, y_val = train_test_split(\n",
        "#     X_train_val, y_train_val, test_size=0.25, random_state=42, stratify=y_train_val\n",
        "# )\n",
        "from sklearn.model_selection import train_test_split\n",
        "\n",
        "# Bagi data menjadi Training Set (80%) dan Testing Set (20%) saja\n",
        "X_train, X_test, y_train, y_test = train_test_split(\n",
        "    X, y, test_size=0.2, random_state=42, stratify=y\n",
        ")\n"
      ],
      "metadata": {
        "id": "SOi_kA4Wqe4R"
      },
      "execution_count": 9,
      "outputs": []
    },
    {
      "cell_type": "code",
      "source": [
        "print(\"\\nDistribusi kelas di Training Set:\")\n",
        "print(y_train.value_counts())\n",
        "# print(\"\\nDistribusi kelas di Validation Set:\")\n",
        "# print(y_val.value_counts())\n",
        "print(\"\\nDistribusi kelas di Testing Set:\")\n",
        "print(y_test.value_counts())"
      ],
      "metadata": {
        "colab": {
          "base_uri": "https://localhost:8080/"
        },
        "id": "7JxoX0r-sFl4",
        "outputId": "cf9bfc86-13bf-4113-f4a0-1f401062e8b6"
      },
      "execution_count": 10,
      "outputs": [
        {
          "output_type": "stream",
          "name": "stdout",
          "text": [
            "\n",
            "Distribusi kelas di Training Set:\n",
            "sentiment\n",
            "positif    3527\n",
            "netral     2312\n",
            "negatif    2073\n",
            "Name: count, dtype: int64\n",
            "\n",
            "Distribusi kelas di Testing Set:\n",
            "sentiment\n",
            "positif    882\n",
            "netral     578\n",
            "negatif    519\n",
            "Name: count, dtype: int64\n"
          ]
        }
      ]
    },
    {
      "cell_type": "code",
      "source": [
        "from sklearn.feature_extraction.text import TfidfVectorizer\n",
        "vectorizer = TfidfVectorizer(min_df=5, max_df=0.8, ngram_range=(1, 2))\n",
        "\n",
        "# Fit HANYA pada data training, kemudian transform pada semua set\n",
        "X_train_vec = vectorizer.fit_transform(X_train)\n",
        "# X_val_vec = vectorizer.transform(X_val)\n",
        "X_test_vec = vectorizer.transform(X_test)"
      ],
      "metadata": {
        "id": "pgFQO0wcsSDQ"
      },
      "execution_count": 11,
      "outputs": []
    },
    {
      "cell_type": "code",
      "source": [
        "from imblearn.over_sampling import SMOTE\n",
        "import numpy as np\n",
        "from scipy.sparse import csr_matrix\n"
      ],
      "metadata": {
        "id": "yRPG4H8lsWT7"
      },
      "execution_count": 12,
      "outputs": []
    },
    {
      "cell_type": "code",
      "source": [
        "print(\"\\nDistribusi kelas di Training Set sebelum balancing:\")\n",
        "print(y_train.value_counts())"
      ],
      "metadata": {
        "colab": {
          "base_uri": "https://localhost:8080/"
        },
        "id": "g4SqY2F8srzz",
        "outputId": "488fa0e4-ef60-470c-f2ab-cc3b178aa02d"
      },
      "execution_count": 13,
      "outputs": [
        {
          "output_type": "stream",
          "name": "stdout",
          "text": [
            "\n",
            "Distribusi kelas di Training Set sebelum balancing:\n",
            "sentiment\n",
            "positif    3527\n",
            "netral     2312\n",
            "negatif    2073\n",
            "Name: count, dtype: int64\n"
          ]
        }
      ]
    },
    {
      "cell_type": "code",
      "source": [
        "\n",
        "\n",
        "# Strategi SMOTE: hanya oversample kelas 'Netral' ke 536 sampel\n",
        "# sampling_strategy_smote = {\n",
        "#     'netral': 3527,\n",
        "#     'negatif': 3527\n",
        "# }\n",
        "\n",
        "sampling_strategy_smote = {\n",
        "    'netral': 6000,\n",
        "    'negatif': 6000,\n",
        "    'positif':6000\n",
        "}\n",
        "\n",
        "# Inisialisasi SMOTE\n",
        "smote_sampler = SMOTE(sampling_strategy=sampling_strategy_smote, random_state=42)\n",
        "\n",
        "# Lakukan resampling hanya dengan SMOTE\n",
        "X_train_resampled_tfidf, y_train_resampled_tfidf = smote_sampler.fit_resample(X_train_vec, y_train)\n",
        "\n",
        "# Cek hasil\n",
        "print(\"\\nDistribusi kelas di Training Set setelah SMOTE:\")\n",
        "print(y_train_resampled_tfidf.value_counts())\n",
        "print(f\"Total sampel training setelah balancing: {len(y_train_resampled_tfidf)}\")\n"
      ],
      "metadata": {
        "colab": {
          "base_uri": "https://localhost:8080/"
        },
        "id": "KQfU8d8QsyFP",
        "outputId": "11e0d219-eb93-4c04-ca51-93e6f9dba5ba"
      },
      "execution_count": 14,
      "outputs": [
        {
          "output_type": "stream",
          "name": "stdout",
          "text": [
            "\n",
            "Distribusi kelas di Training Set setelah SMOTE:\n",
            "sentiment\n",
            "negatif    6000\n",
            "positif    6000\n",
            "netral     6000\n",
            "Name: count, dtype: int64\n",
            "Total sampel training setelah balancing: 18000\n"
          ]
        }
      ]
    },
    {
      "cell_type": "code",
      "source": [
        "import numpy as np\n",
        "import pandas as pd\n",
        "from sklearn.model_selection import train_test_split\n",
        "from imblearn.over_sampling import SMOTE\n",
        "from imblearn.pipeline import Pipeline\n",
        "from gensim.models import Word2Vec\n",
        "from sklearn.preprocessing import LabelEncoder\n",
        "import time\n",
        "\n",
        "# === 1. Tokenisasi data (list of list of tokens untuk Word2Vec) ===\n",
        "X_train_tokenized = [text.split() for text in X_train]\n",
        "# X_val_tokenized = [text.split() for text in X_val]\n",
        "X_test_tokenized = [text.split() for text in X_test]\n",
        "\n",
        "print(f\"Contoh tokenisasi pertama: {X_train_tokenized[0]}\")\n",
        "\n",
        "# === 2. Latih Word2Vec dari data training lokal ===\n",
        "print(\"\\nMelatih Word2Vec dari data training...\")\n",
        "start_time = time.time()\n",
        "\n",
        "w2v_model = Word2Vec(\n",
        "    sentences=X_train_tokenized,\n",
        "    vector_size=100,  # Dimensi embedding\n",
        "    window=5,\n",
        "    min_count=1,\n",
        "    sg=0,  # CBOW (lebih cepat)\n",
        "    workers=-1,\n",
        "    epochs=10\n",
        ")\n",
        "\n",
        "end_time = time.time()\n",
        "print(f\"Model Word2Vec selesai dalam {end_time - start_time:.2f} detik\")\n",
        "print(f\"Total kata dalam vocabulary Word2Vec: {len(w2v_model.wv.index_to_key)}\")\n",
        "\n",
        "# === 3. Fungsi untuk merata-rata embedding Word2Vec per kalimat ===\n",
        "def sentence_vector(tokens, model, vector_size):\n",
        "    vectors = [model.wv[word] for word in tokens if word in model.wv]\n",
        "    if len(vectors) == 0:\n",
        "        return np.zeros(vector_size)\n",
        "    return np.mean(vectors, axis=0)\n",
        "\n",
        "# === 4. Buat vektor rata-rata untuk X_train, X_val, X_test ===\n",
        "print(\"\\nMembuat representasi rata-rata Word2Vec...\")\n",
        "X_train_w2v = np.array([sentence_vector(tokens, w2v_model, 100) for tokens in X_train_tokenized])\n",
        "# X_val_w2v = np.array([sentence_vector(tokens, w2v_model, 100) for tokens in X_val_tokenized])\n",
        "X_test_w2v = np.array([sentence_vector(tokens, w2v_model, 100) for tokens in X_test_tokenized])\n",
        "\n",
        "print(\"Shape X_train_w2v:\", X_train_w2v.shape)\n",
        "\n",
        "# === 5. Oversampling dengan SMOTE ===\n",
        "print(\"\\nDistribusi awal y_train:\")\n",
        "print(y_train.value_counts())\n",
        "\n",
        "sampling_strategy = {\n",
        "    'netral': 3527,\n",
        "    'negatif': 3527\n",
        "    # Positif tidak diubah (sudah 2645)\n",
        "}\n",
        "smote = SMOTE(sampling_strategy=sampling_strategy, random_state=42)\n",
        "\n",
        "X_train_w2v_resampled, y_train_resampled = smote.fit_resample(X_train_w2v, y_train)\n",
        "\n",
        "print(\"\\nDistribusi kelas setelah oversampling:\")\n",
        "print(pd.Series(y_train_resampled).value_counts())\n",
        "print(f\"Total sampel setelah oversampling: {len(y_train_resampled)}\")\n"
      ],
      "metadata": {
        "colab": {
          "base_uri": "https://localhost:8080/"
        },
        "id": "VBV-qPlNtM7c",
        "outputId": "f6708e87-7487-499d-ae00-8479aa78d38e"
      },
      "execution_count": 15,
      "outputs": [
        {
          "output_type": "stream",
          "name": "stderr",
          "text": [
            "WARNING:gensim.models.word2vec:EPOCH 0: supplied example count (0) did not equal expected count (7912)\n",
            "WARNING:gensim.models.word2vec:EPOCH 0: supplied raw word count (0) did not equal expected count (79367)\n",
            "WARNING:gensim.models.word2vec:EPOCH 1: supplied example count (0) did not equal expected count (7912)\n",
            "WARNING:gensim.models.word2vec:EPOCH 1: supplied raw word count (0) did not equal expected count (79367)\n",
            "WARNING:gensim.models.word2vec:EPOCH 2: supplied example count (0) did not equal expected count (7912)\n",
            "WARNING:gensim.models.word2vec:EPOCH 2: supplied raw word count (0) did not equal expected count (79367)\n",
            "WARNING:gensim.models.word2vec:EPOCH 3: supplied example count (0) did not equal expected count (7912)\n"
          ]
        },
        {
          "output_type": "stream",
          "name": "stdout",
          "text": [
            "Contoh tokenisasi pertama: ['versi', 'sayang', 'masuk', 'pakai', 'akun']\n",
            "\n",
            "Melatih Word2Vec dari data training...\n"
          ]
        },
        {
          "output_type": "stream",
          "name": "stderr",
          "text": [
            "WARNING:gensim.models.word2vec:EPOCH 3: supplied raw word count (0) did not equal expected count (79367)\n",
            "WARNING:gensim.models.word2vec:EPOCH 4: supplied example count (0) did not equal expected count (7912)\n",
            "WARNING:gensim.models.word2vec:EPOCH 4: supplied raw word count (0) did not equal expected count (79367)\n",
            "WARNING:gensim.models.word2vec:EPOCH 5: supplied example count (0) did not equal expected count (7912)\n",
            "WARNING:gensim.models.word2vec:EPOCH 5: supplied raw word count (0) did not equal expected count (79367)\n",
            "WARNING:gensim.models.word2vec:EPOCH 6: supplied example count (0) did not equal expected count (7912)\n",
            "WARNING:gensim.models.word2vec:EPOCH 6: supplied raw word count (0) did not equal expected count (79367)\n",
            "WARNING:gensim.models.word2vec:EPOCH 7: supplied example count (0) did not equal expected count (7912)\n",
            "WARNING:gensim.models.word2vec:EPOCH 7: supplied raw word count (0) did not equal expected count (79367)\n",
            "WARNING:gensim.models.word2vec:EPOCH 8: supplied example count (0) did not equal expected count (7912)\n",
            "WARNING:gensim.models.word2vec:EPOCH 8: supplied raw word count (0) did not equal expected count (79367)\n",
            "WARNING:gensim.models.word2vec:EPOCH 9: supplied example count (0) did not equal expected count (7912)\n",
            "WARNING:gensim.models.word2vec:EPOCH 9: supplied raw word count (0) did not equal expected count (79367)\n"
          ]
        },
        {
          "output_type": "stream",
          "name": "stdout",
          "text": [
            "Model Word2Vec selesai dalam 0.26 detik\n",
            "Total kata dalam vocabulary Word2Vec: 8709\n",
            "\n",
            "Membuat representasi rata-rata Word2Vec...\n",
            "Shape X_train_w2v: (7912, 100)\n",
            "\n",
            "Distribusi awal y_train:\n",
            "sentiment\n",
            "positif    3527\n",
            "netral     2312\n",
            "negatif    2073\n",
            "Name: count, dtype: int64\n",
            "\n",
            "Distribusi kelas setelah oversampling:\n",
            "sentiment\n",
            "negatif    3527\n",
            "positif    3527\n",
            "netral     3527\n",
            "Name: count, dtype: int64\n",
            "Total sampel setelah oversampling: 10581\n"
          ]
        }
      ]
    },
    {
      "cell_type": "code",
      "source": [
        "from sklearn.ensemble import RandomForestClassifier\n",
        "from sklearn.svm import SVC\n",
        "import xgboost as xgb\n",
        "from sklearn.metrics import classification_report, accuracy_score, f1_score\n",
        "import time # Untuk mengukur waktu pelatihan\n",
        "\n",
        "print(\"--- Memulai Pelatihan dan Evaluasi Model Klasifikasi ---\")\n",
        "\n",
        "# --- Model 1: Random Forest Classifier ---\n",
        "print(\"\\nMelatih Random Forest Classifier...\")\n",
        "start_time = time.time()\n",
        "rf_model = RandomForestClassifier(n_estimators=100, random_state=42, n_jobs=-1) # n_jobs=-1 untuk gunakan semua core CPU\n",
        "rf_model.fit(X_train_resampled_tfidf, y_train_resampled_tfidf)\n",
        "end_time = time.time()\n",
        "print(f\"Waktu pelatihan Random Forest: {end_time - start_time:.2f} detik\")\n",
        "\n",
        "# Prediksi dan Evaluasi pada Validation Set\n",
        "# y_val_pred_rf = rf_model.predict(X_val_vec)\n",
        "# print(\"\\n--- Hasil Random Forest pada Validation Set (TF-IDF) ---\")\n",
        "# print(classification_report(y_val, y_val_pred_rf))\n",
        "# print(f\"Accuracy: {accuracy_score(y_val, y_val_pred_rf):.4f}\")\n",
        "# print(f\"F1-Score (weighted): {f1_score(y_val, y_val_pred_rf, average='weighted'):.4f}\")\n",
        "\n",
        "# Prediksi dan Evaluasi pada Test Set (Evaluasi Akhir)\n",
        "y_test_pred_rf = rf_model.predict(X_test_vec)\n",
        "print(\"\\n--- Hasil Random Forest pada Test Set (TF-IDF, Final) ---\")\n",
        "print(classification_report(y_test, y_test_pred_rf))\n",
        "print(f\"Accuracy: {accuracy_score(y_test, y_test_pred_rf):.4f}\")\n",
        "print(f\"F1-Score (weighted): {f1_score(y_test, y_test_pred_rf, average='weighted'):.4f}\")\n",
        "\n",
        "\n",
        "# --- Model 2: Support Vector Classifier (SVC) ---\n",
        "print(\"\\nMelatih Support Vector Classifier (SVC)...\")\n",
        "start_time = time.time()\n",
        "# kernel='linear' sering efektif untuk data teks sparse seperti TF-IDF.\n",
        "# C adalah parameter regulerisasi, bisa disetel nanti.\n",
        "svc_model = SVC(kernel='linear', random_state=42)\n",
        "svc_model.fit(X_train_resampled_tfidf, y_train_resampled_tfidf)\n",
        "end_time = time.time()\n",
        "print(f\"Waktu pelatihan SVC: {end_time - start_time:.2f} detik\")\n",
        "\n",
        "# Prediksi dan Evaluasi pada Validation Set\n",
        "# y_val_pred_svc = svc_model.predict(X_val_vec)\n",
        "# print(\"\\n--- Hasil SVC pada Validation Set (TF-IDF) ---\")\n",
        "# print(classification_report(y_val, y_val_pred_svc))\n",
        "# print(f\"Accuracy: {accuracy_score(y_val, y_val_pred_svc):.4f}\")\n",
        "# print(f\"F1-Score (weighted): {f1_score(y_val, y_val_pred_svc, average='weighted'):.4f}\")\n",
        "\n",
        "# Prediksi dan Evaluasi pada Test Set (Evaluasi Akhir)\n",
        "y_test_pred_svc = svc_model.predict(X_test_vec)\n",
        "print(\"\\n--- Hasil SVC pada Test Set (TF-IDF, Final) ---\")\n",
        "print(classification_report(y_test, y_test_pred_svc))\n",
        "print(f\"Accuracy: {accuracy_score(y_test, y_test_pred_svc):.4f}\")\n",
        "print(f\"F1-Score (weighted): {f1_score(y_test, y_test_pred_svc, average='weighted'):.4f}\")\n",
        "\n",
        "\n",
        "from sklearn.preprocessing import LabelEncoder\n",
        "import xgboost as xgb # Pastikan ini sudah diimpor\n",
        "from sklearn.metrics import classification_report, accuracy_score, f1_score\n",
        "import time # Untuk mengukur waktu pelatihan\n",
        "\n",
        "# --- Asumsi: X_train_resampled_tfidf, y_train_resampled_tfidf, X_val_vec_tfidf, y_val, X_test_vec_tfidf, y_test sudah tersedia ---\n",
        "\n",
        "print(\"\\n--- Mengonversi Label Sentimen ke Numerik untuk XGBoost ---\")\n",
        "\n",
        "# Inisialisasi LabelEncoder\n",
        "label_encoder = LabelEncoder()\n",
        "\n",
        "# Fit LabelEncoder HANYA pada y_train_resampled_tfidf untuk mempelajari pemetaan\n",
        "# Kemudian transform semua set label\n",
        "y_train_encoded = label_encoder.fit_transform(y_train_resampled_tfidf)\n",
        "# y_val_encoded = label_encoder.transform(y_val)\n",
        "y_test_encoded = label_encoder.transform(y_test)\n",
        "\n",
        "print(f\"Mapping label: {list(label_encoder.classes_)} -> {list(range(len(label_encoder.classes_)))}\")\n",
        "print(f\"Contoh y_train_encoded (awal): {y_train_encoded[:5]}\")\n",
        "print(f\"Contoh y_train_resampled_tfidf (awal): {y_train_resampled_tfidf[:5].tolist()}\")\n",
        "\n",
        "\n",
        "# --- Lanjutkan dengan Pelatihan XGBoost Classifier ---\n",
        "print(\"\\nMelatih XGBoost Classifier (dengan label numerik)...\")\n",
        "start_time = time.time()\n",
        "xgb_model = xgb.XGBClassifier(objective='multi:softmax',\n",
        "                              num_class=len(label_encoder.classes_), # Jumlah kelas disesuaikan\n",
        "                              eval_metric='mlogloss',\n",
        "                              use_label_encoder=False, # Pertahankan ini\n",
        "                              n_estimators=100,\n",
        "                              random_state=42,\n",
        "                              n_jobs=-1)\n",
        "\n",
        "# Gunakan label yang sudah di-encode\n",
        "xgb_model.fit(X_train_resampled_tfidf, y_train_encoded)\n",
        "end_time = time.time()\n",
        "print(f\"Waktu pelatihan XGBoost: {end_time - start_time:.2f} detik\")\n",
        "\n",
        "# Prediksi pada Validation Set (akan menghasilkan label numerik)\n",
        "# y_val_pred_xgb_encoded = xgb_model.predict(X_val_vec)\n",
        "# Konversi kembali prediksi ke label string untuk classification_report yang mudah dibaca\n",
        "# y_val_pred_xgb = label_encoder.inverse_transform(y_val_pred_xgb_encoded)\n",
        "\n",
        "# print(\"\\n--- Hasil XGBoost pada Validation Set (TF-IDF) ---\")\n",
        "# print(classification_report(y_val, y_val_pred_xgb)) # y_val masih string\n",
        "# print(f\"Accuracy: {accuracy_score(y_val, y_val_pred_xgb):.4f}\")\n",
        "# print(f\"F1-Score (weighted): {f1_score(y_val, y_val_pred_xgb, average='weighted'):.4f}\")\n",
        "\n",
        "# Prediksi pada Test Set (Evaluasi Akhir)\n",
        "y_test_pred_xgb_encoded = xgb_model.predict(X_test_vec)\n",
        "# Konversi kembali prediksi ke label string\n",
        "y_test_pred_xgb = label_encoder.inverse_transform(y_test_pred_xgb_encoded)\n",
        "\n",
        "print(\"\\n--- Hasil XGBoost pada Test Set (TF-IDF, Final) ---\")\n",
        "print(classification_report(y_test, y_test_pred_xgb)) # y_test masih string\n",
        "print(f\"Accuracy: {accuracy_score(y_test, y_test_pred_xgb):.4f}\")\n",
        "print(f\"F1-Score (weighted): {f1_score(y_test, y_test_pred_xgb, average='weighted'):.4f}\")"
      ],
      "metadata": {
        "colab": {
          "base_uri": "https://localhost:8080/"
        },
        "id": "4gmkc9lVvx61",
        "outputId": "277014f9-2e7e-4206-8c1f-8f7117769342"
      },
      "execution_count": 17,
      "outputs": [
        {
          "output_type": "stream",
          "name": "stdout",
          "text": [
            "--- Memulai Pelatihan dan Evaluasi Model Klasifikasi ---\n",
            "\n",
            "Melatih Random Forest Classifier...\n",
            "Waktu pelatihan Random Forest: 14.08 detik\n",
            "\n",
            "--- Hasil Random Forest pada Test Set (TF-IDF, Final) ---\n",
            "              precision    recall  f1-score   support\n",
            "\n",
            "     negatif       0.77      0.77      0.77       519\n",
            "      netral       0.80      0.67      0.73       578\n",
            "     positif       0.81      0.90      0.85       882\n",
            "\n",
            "    accuracy                           0.80      1979\n",
            "   macro avg       0.79      0.78      0.78      1979\n",
            "weighted avg       0.80      0.80      0.79      1979\n",
            "\n",
            "Accuracy: 0.7969\n",
            "F1-Score (weighted): 0.7939\n",
            "\n",
            "Melatih Support Vector Classifier (SVC)...\n",
            "Waktu pelatihan SVC: 27.71 detik\n",
            "\n",
            "--- Hasil SVC pada Test Set (TF-IDF, Final) ---\n",
            "              precision    recall  f1-score   support\n",
            "\n",
            "     negatif       0.81      0.87      0.84       519\n",
            "      netral       0.80      0.74      0.77       578\n",
            "     positif       0.91      0.91      0.91       882\n",
            "\n",
            "    accuracy                           0.85      1979\n",
            "   macro avg       0.84      0.84      0.84      1979\n",
            "weighted avg       0.85      0.85      0.85      1979\n",
            "\n",
            "Accuracy: 0.8499\n",
            "F1-Score (weighted): 0.8492\n",
            "\n",
            "--- Mengonversi Label Sentimen ke Numerik untuk XGBoost ---\n",
            "Mapping label: ['negatif', 'netral', 'positif'] -> [0, 1, 2]\n",
            "Contoh y_train_encoded (awal): [0 2 2 2 2]\n",
            "Contoh y_train_resampled_tfidf (awal): ['negatif', 'positif', 'positif', 'positif', 'positif']\n",
            "\n",
            "Melatih XGBoost Classifier (dengan label numerik)...\n"
          ]
        },
        {
          "output_type": "stream",
          "name": "stderr",
          "text": [
            "/usr/local/lib/python3.11/dist-packages/xgboost/core.py:158: UserWarning: [03:56:48] WARNING: /workspace/src/learner.cc:740: \n",
            "Parameters: { \"use_label_encoder\" } are not used.\n",
            "\n",
            "  warnings.warn(smsg, UserWarning)\n"
          ]
        },
        {
          "output_type": "stream",
          "name": "stdout",
          "text": [
            "Waktu pelatihan XGBoost: 42.42 detik\n",
            "\n",
            "--- Hasil XGBoost pada Test Set (TF-IDF, Final) ---\n",
            "              precision    recall  f1-score   support\n",
            "\n",
            "     negatif       0.79      0.77      0.78       519\n",
            "      netral       0.71      0.70      0.71       578\n",
            "     positif       0.83      0.85      0.84       882\n",
            "\n",
            "    accuracy                           0.79      1979\n",
            "   macro avg       0.78      0.77      0.78      1979\n",
            "weighted avg       0.78      0.79      0.79      1979\n",
            "\n",
            "Accuracy: 0.7858\n",
            "F1-Score (weighted): 0.7852\n"
          ]
        }
      ]
    },
    {
      "cell_type": "code",
      "source": [
        "import joblib\n",
        "# Simpan Random Forest\n",
        "joblib.dump(rf_model, 'model_random_forest_tfidf.pkl')\n",
        "\n",
        "# Simpan SVC\n",
        "joblib.dump(svc_model, 'model_svc_tfidf.pkl')\n",
        "\n",
        "# Simpan XGBoost\n",
        "joblib.dump(xgb_model, 'model_xgboost_tfidf.pkl')\n",
        "\n",
        "# Simpan LabelEncoder (penting untuk XGBoost agar bisa inverse_transform saat prediksi)\n",
        "joblib.dump(label_encoder, 'label_encoder_tfidf.pkl')\n"
      ],
      "metadata": {
        "colab": {
          "base_uri": "https://localhost:8080/"
        },
        "id": "XA0pAXkNKqPc",
        "outputId": "71004363-b78b-4974-c4a4-5071fcf6ac28"
      },
      "execution_count": 18,
      "outputs": [
        {
          "output_type": "execute_result",
          "data": {
            "text/plain": [
              "['label_encoder_tfidf.pkl']"
            ]
          },
          "metadata": {},
          "execution_count": 18
        }
      ]
    },
    {
      "cell_type": "code",
      "source": [
        "from sklearn.ensemble import RandomForestClassifier\n",
        "from sklearn.svm import SVC\n",
        "import xgboost as xgb\n",
        "from sklearn.metrics import classification_report, accuracy_score, f1_score\n",
        "import time\n",
        "\n",
        "print(\"\\n--- Melatih dan Mengevaluasi Model Klasifikasi (Word2Vec Lokal) ---\")\n",
        "\n",
        "# ========================\n",
        "# Model 1: Random Forest\n",
        "# ========================\n",
        "print(\"\\nMelatih Random Forest Classifier...\")\n",
        "start_time = time.time()\n",
        "rf_model = RandomForestClassifier(n_estimators=100, random_state=42, n_jobs=-1)\n",
        "rf_model.fit(X_train_w2v_resampled, y_train_resampled)\n",
        "end_time = time.time()\n",
        "print(f\"Waktu pelatihan RF: {end_time - start_time:.2f} detik\")\n",
        "\n",
        "# y_val_pred_rf = rf_model.predict(X_val_w2v)\n",
        "# print(\"\\n[Random Forest] Validation Set:\")\n",
        "# print(classification_report(y_val, y_val_pred_rf))\n",
        "# print(f\"Accuracy: {accuracy_score(y_val, y_val_pred_rf):.4f}\")\n",
        "# print(f\"F1-Score (weighted): {f1_score(y_val, y_val_pred_rf, average='weighted'):.4f}\")\n",
        "\n",
        "y_test_pred_rf = rf_model.predict(X_test_w2v)\n",
        "print(\"\\n[Random Forest] Test Set:\")\n",
        "print(classification_report(y_test, y_test_pred_rf))\n",
        "print(f\"Accuracy: {accuracy_score(y_test, y_test_pred_rf):.4f}\")\n",
        "print(f\"F1-Score (weighted): {f1_score(y_test, y_test_pred_rf, average='weighted'):.4f}\")\n",
        "\n",
        "\n",
        "# ========================\n",
        "# Model 2: SVC\n",
        "# ========================\n",
        "print(\"\\nMelatih Support Vector Classifier (SVC)...\")\n",
        "start_time = time.time()\n",
        "svc_model = SVC(kernel='linear', random_state=42)\n",
        "svc_model.fit(X_train_w2v_resampled, y_train_resampled)\n",
        "end_time = time.time()\n",
        "print(f\"Waktu pelatihan SVC: {end_time - start_time:.2f} detik\")\n",
        "\n",
        "# y_val_pred_svc = svc_model.predict(X_val_w2v)\n",
        "# print(\"\\n[SVC] Validation Set:\")\n",
        "# print(classification_report(y_val, y_val_pred_svc))\n",
        "# print(f\"Accuracy: {accuracy_score(y_val, y_val_pred_svc):.4f}\")\n",
        "# print(f\"F1-Score (weighted): {f1_score(y_val, y_val_pred_svc, average='weighted'):.4f}\")\n",
        "\n",
        "y_test_pred_svc = svc_model.predict(X_test_w2v)\n",
        "print(\"\\n[SVC] Test Set:\")\n",
        "print(classification_report(y_test, y_test_pred_svc))\n",
        "print(f\"Accuracy: {accuracy_score(y_test, y_test_pred_svc):.4f}\")\n",
        "print(f\"F1-Score (weighted): {f1_score(y_test, y_test_pred_svc, average='weighted'):.4f}\")\n",
        "\n",
        "\n",
        "from sklearn.preprocessing import LabelEncoder\n",
        "\n",
        "# Inisialisasi dan fit encoder\n",
        "label_encoder = LabelEncoder()\n",
        "label_encoder.fit(y_train_resampled)\n",
        "\n",
        "# Transform label menjadi integer\n",
        "y_train_enc = label_encoder.transform(y_train_resampled)\n",
        "y_val_enc = label_encoder.transform(y_val)\n",
        "y_test_enc = label_encoder.transform(y_test)\n",
        "\n",
        "# ========================\n",
        "# ========================\n",
        "# Model 3: XGBoost\n",
        "# ========================\n",
        "print(\"\\nMelatih XGBoost Classifier...\")\n",
        "start_time = time.time()\n",
        "\n",
        "xgb_model = xgb.XGBClassifier(objective='multi:softmax',\n",
        "                              num_class=3,\n",
        "                              eval_metric='mlogloss',\n",
        "                              use_label_encoder=False,\n",
        "                              n_estimators=100,\n",
        "                              random_state=42,\n",
        "                              n_jobs=-1)\n",
        "\n",
        "xgb_model.fit(X_train_w2v_resampled, y_train_enc)\n",
        "end_time = time.time()\n",
        "print(f\"Waktu pelatihan XGBoost: {end_time - start_time:.2f} detik\")\n",
        "\n",
        "# Prediksi (hasil berupa angka), konversi ke string label\n",
        "# y_val_pred_xgb_enc = xgb_model.predict(X_val_w2v)\n",
        "y_val_pred_xgb = label_encoder.inverse_transform(y_val_pred_xgb_enc)\n",
        "\n",
        "# print(\"\\n[XGBoost] Validation Set:\")\n",
        "# print(classification_report(y_val, y_val_pred_xgb))\n",
        "# print(f\"Accuracy: {accuracy_score(y_val, y_val_pred_xgb):.4f}\")\n",
        "# print(f\"F1-Score (weighted): {f1_score(y_val, y_val_pred_xgb, average='weighted'):.4f}\")\n",
        "\n",
        "y_test_pred_xgb_enc = xgb_model.predict(X_test_w2v)\n",
        "y_test_pred_xgb = label_encoder.inverse_transform(y_test_pred_xgb_enc)\n",
        "\n",
        "print(\"\\n[XGBoost] Test Set:\")\n",
        "print(classification_report(y_test, y_test_pred_xgb))\n",
        "print(f\"Accuracy: {accuracy_score(y_test, y_test_pred_xgb):.4f}\")\n",
        "print(f\"F1-Score (weighted): {f1_score(y_test, y_test_pred_xgb, average='weighted'):.4f}\")\n",
        "\n"
      ],
      "metadata": {
        "colab": {
          "base_uri": "https://localhost:8080/"
        },
        "id": "PnZGVWlky-iY",
        "outputId": "ce2af153-f313-4042-b289-84de346dfe36"
      },
      "execution_count": null,
      "outputs": [
        {
          "output_type": "stream",
          "name": "stdout",
          "text": [
            "\n",
            "--- Melatih dan Mengevaluasi Model Klasifikasi (Word2Vec Lokal) ---\n",
            "\n",
            "Melatih Random Forest Classifier...\n",
            "Waktu pelatihan RF: 14.36 detik\n",
            "\n",
            "[Random Forest] Test Set:\n",
            "              precision    recall  f1-score   support\n",
            "\n",
            "     negatif       0.58      0.56      0.57       519\n",
            "      netral       0.65      0.60      0.62       578\n",
            "     positif       0.69      0.74      0.72       882\n",
            "\n",
            "    accuracy                           0.65      1979\n",
            "   macro avg       0.64      0.63      0.64      1979\n",
            "weighted avg       0.65      0.65      0.65      1979\n",
            "\n",
            "Accuracy: 0.6534\n",
            "F1-Score (weighted): 0.6517\n",
            "\n",
            "Melatih Support Vector Classifier (SVC)...\n",
            "Waktu pelatihan SVC: 15.43 detik\n",
            "\n",
            "[SVC] Test Set:\n",
            "              precision    recall  f1-score   support\n",
            "\n",
            "     negatif       0.66      0.19      0.30       519\n",
            "      netral       0.36      0.62      0.45       578\n",
            "     positif       0.61      0.57      0.59       882\n",
            "\n",
            "    accuracy                           0.49      1979\n",
            "   macro avg       0.54      0.46      0.45      1979\n",
            "weighted avg       0.55      0.49      0.47      1979\n",
            "\n",
            "Accuracy: 0.4866\n",
            "F1-Score (weighted): 0.4742\n",
            "\n",
            "Melatih XGBoost Classifier...\n"
          ]
        },
        {
          "output_type": "stream",
          "name": "stderr",
          "text": [
            "/usr/local/lib/python3.11/dist-packages/xgboost/core.py:158: UserWarning: [03:40:23] WARNING: /workspace/src/learner.cc:740: \n",
            "Parameters: { \"use_label_encoder\" } are not used.\n",
            "\n",
            "  warnings.warn(smsg, UserWarning)\n"
          ]
        },
        {
          "output_type": "stream",
          "name": "stdout",
          "text": [
            "Waktu pelatihan XGBoost: 15.54 detik\n",
            "\n",
            "[XGBoost] Test Set:\n",
            "              precision    recall  f1-score   support\n",
            "\n",
            "     negatif       0.61      0.62      0.62       519\n",
            "      netral       0.62      0.58      0.60       578\n",
            "     positif       0.72      0.74      0.73       882\n",
            "\n",
            "    accuracy                           0.66      1979\n",
            "   macro avg       0.65      0.65      0.65      1979\n",
            "weighted avg       0.66      0.66      0.66      1979\n",
            "\n",
            "Accuracy: 0.6625\n",
            "F1-Score (weighted): 0.6618\n"
          ]
        }
      ]
    },
    {
      "cell_type": "code",
      "source": [],
      "metadata": {
        "id": "Ld5zLJC8KmOK"
      },
      "execution_count": null,
      "outputs": []
    },
    {
      "cell_type": "code",
      "source": [
        "rf_model_loaded = joblib.load('model_random_forest_tfidf.pkl')\n",
        "svc_model_loaded = joblib.load('model_svc_tfidf.pkl')\n",
        "xgb_model_loaded = joblib.load('model_xgboost_tfidf.pkl')\n",
        "label_encoder_loaded = joblib.load('label_encoder_tfidf.pkl')\n"
      ],
      "metadata": {
        "id": "Lc3MNtJJKk3i"
      },
      "execution_count": 19,
      "outputs": []
    },
    {
      "cell_type": "code",
      "source": [
        "# Dictionary kalimat representatif tiap label\n",
        "contoh_kalimat = {\n",
        "    \"Positif\": [\n",
        "        \"Saya sangat senang dengan pelayanan ini.\",\n",
        "        \"Produk ini luar biasa bagus dan berkualitas.\",\n",
        "        \"Saya merasa puas dan akan membeli lagi.\"\n",
        "    ],\n",
        "    \"Netral\": [\n",
        "        \"Saya baru saja mencoba produk ini.\",\n",
        "        \"Pengirimannya sesuai dengan yang dijanjikan.\",\n",
        "        \"Saya belum tahu apakah produk ini bagus atau tidak.\"\n",
        "    ],\n",
        "    \"Negatif\": [\n",
        "        \"Saya kecewa dengan kualitasnya.\",\n",
        "        \"Pelayanannya sangat lambat dan tidak ramah.\",\n",
        "        \"Saya tidak akan membeli produk ini lagi.\"\n",
        "    ]\n",
        "}\n"
      ],
      "metadata": {
        "id": "928b3w-uKi0c"
      },
      "execution_count": 20,
      "outputs": []
    },
    {
      "cell_type": "code",
      "source": [
        "# Himpun semua kalimat uji dari dictionary\n",
        "kalimat_uji = []\n",
        "label_asli = []\n",
        "\n",
        "for label, kalimat_list in contoh_kalimat.items():\n",
        "    for kalimat in kalimat_list:\n",
        "        kalimat_uji.append(kalimat)\n",
        "        label_asli.append(label)\n",
        "\n",
        "# Transformasikan kalimat uji ke TF-IDF\n",
        "X_kalimat_uji_vec = vectorizer.transform(kalimat_uji)\n"
      ],
      "metadata": {
        "id": "q2Y5_AOHKfJ0"
      },
      "execution_count": 21,
      "outputs": []
    },
    {
      "cell_type": "code",
      "source": [
        "# Random Forest\n",
        "pred_rf = rf_model.predict(X_kalimat_uji_vec)\n",
        "\n",
        "# SVC\n",
        "pred_svc = svc_model.predict(X_kalimat_uji_vec)\n",
        "\n",
        "# XGBoost\n",
        "pred_xgb_encoded = xgb_model.predict(X_kalimat_uji_vec)\n",
        "pred_xgb = label_encoder.inverse_transform(pred_xgb_encoded)\n",
        "print(\"\\n=== Interpretasi Prediksi Model ===\")\n",
        "for i, kalimat in enumerate(kalimat_uji):\n",
        "    print(f\"\\nKalimat: {kalimat}\")\n",
        "    print(f\"Label Asli: {label_asli[i]}\")\n",
        "    print(f\"Prediksi Random Forest: {pred_rf[i]}\")\n",
        "    print(f\"Prediksi SVC: {pred_svc[i]}\")\n",
        "    print(f\"Prediksi XGBoost: {pred_xgb[i]}\")\n"
      ],
      "metadata": {
        "id": "5T2EBGjNzIkN",
        "colab": {
          "base_uri": "https://localhost:8080/"
        },
        "outputId": "bcab79d8-82d9-47f3-b8f7-a389128c1c71"
      },
      "execution_count": 22,
      "outputs": [
        {
          "output_type": "stream",
          "name": "stdout",
          "text": [
            "\n",
            "=== Interpretasi Prediksi Model ===\n",
            "\n",
            "Kalimat: Saya sangat senang dengan pelayanan ini.\n",
            "Label Asli: Positif\n",
            "Prediksi Random Forest: netral\n",
            "Prediksi SVC: netral\n",
            "Prediksi XGBoost: netral\n",
            "\n",
            "Kalimat: Produk ini luar biasa bagus dan berkualitas.\n",
            "Label Asli: Positif\n",
            "Prediksi Random Forest: positif\n",
            "Prediksi SVC: positif\n",
            "Prediksi XGBoost: positif\n",
            "\n",
            "Kalimat: Saya merasa puas dan akan membeli lagi.\n",
            "Label Asli: Positif\n",
            "Prediksi Random Forest: positif\n",
            "Prediksi SVC: positif\n",
            "Prediksi XGBoost: positif\n",
            "\n",
            "Kalimat: Saya baru saja mencoba produk ini.\n",
            "Label Asli: Netral\n",
            "Prediksi Random Forest: positif\n",
            "Prediksi SVC: positif\n",
            "Prediksi XGBoost: positif\n",
            "\n",
            "Kalimat: Pengirimannya sesuai dengan yang dijanjikan.\n",
            "Label Asli: Netral\n",
            "Prediksi Random Forest: positif\n",
            "Prediksi SVC: positif\n",
            "Prediksi XGBoost: positif\n",
            "\n",
            "Kalimat: Saya belum tahu apakah produk ini bagus atau tidak.\n",
            "Label Asli: Netral\n",
            "Prediksi Random Forest: positif\n",
            "Prediksi SVC: positif\n",
            "Prediksi XGBoost: positif\n",
            "\n",
            "Kalimat: Saya kecewa dengan kualitasnya.\n",
            "Label Asli: Negatif\n",
            "Prediksi Random Forest: netral\n",
            "Prediksi SVC: netral\n",
            "Prediksi XGBoost: netral\n",
            "\n",
            "Kalimat: Pelayanannya sangat lambat dan tidak ramah.\n",
            "Label Asli: Negatif\n",
            "Prediksi Random Forest: positif\n",
            "Prediksi SVC: positif\n",
            "Prediksi XGBoost: positif\n",
            "\n",
            "Kalimat: Saya tidak akan membeli produk ini lagi.\n",
            "Label Asli: Negatif\n",
            "Prediksi Random Forest: positif\n",
            "Prediksi SVC: positif\n",
            "Prediksi XGBoost: positif\n"
          ]
        }
      ]
    }
  ]
}